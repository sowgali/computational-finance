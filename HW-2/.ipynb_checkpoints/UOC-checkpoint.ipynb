{
 "cells": [
  {
   "cell_type": "code",
   "execution_count": 1,
   "id": "e1e289a6",
   "metadata": {},
   "outputs": [],
   "source": [
    "import numpy as np\n",
    "import math\n",
    "import scipy.special as sc"
   ]
  },
  {
   "cell_type": "code",
   "execution_count": 5,
   "id": "433076e8",
   "metadata": {},
   "outputs": [],
   "source": [
    "S_0 = 1900\n",
    "K = 2000\n",
    "Barrier = 2200\n",
    "r = 0.0025\n",
    "q = 0.015\n",
    "T = 0.5\n",
    "base_vol = 0.25\n",
    "nu = 0.31\n",
    "theta = -0.25\n",
    "Y = 0.4"
   ]
  },
  {
   "cell_type": "code",
   "execution_count": 6,
   "id": "3ed2468b",
   "metadata": {},
   "outputs": [],
   "source": [
    "SMIN = 500\n",
    "Rebate = 0.0"
   ]
  },
  {
   "cell_type": "code",
   "execution_count": 7,
   "id": "be7f25aa",
   "metadata": {},
   "outputs": [],
   "source": [
    "xMin, xMax = np.log(SMIN), np.log(Barrier)\n",
    "N = 800\n",
    "M = 100\n",
    "dx = (xMax - xMin) / N\n",
    "dt = T / M\n",
    "EPS = dx\n",
    "tau = dt * np.arange(1, M+1)\n",
    "x = xMin + np.arange(N+1) * dx"
   ]
  },
  {
   "cell_type": "code",
   "execution_count": 8,
   "id": "1c67486a",
   "metadata": {},
   "outputs": [],
   "source": [
    "def g1(x, alpha):\n",
    "    return sc.gammaincc(1-alpha, x) * sc.gamma(1-alpha)\n",
    "\n",
    "def g2(x, alpha):\n",
    "    return ((np.exp(-x) * (x**(-alpha)) / alpha)) - g1(x, alpha) / alpha\n",
    "\n",
    "def sig_calculator(l):\n",
    "    return (l**(Y-2)) * (-(l*EPS)**(1-Y) * np.exp(-l*EPS) + (1-Y) * (g1(0, Y) - g1(l*EPS, Y))) / nu"
   ]
  },
  {
   "cell_type": "code",
   "execution_count": 14,
   "id": "53df9669",
   "metadata": {},
   "outputs": [],
   "source": [
    "lambda_n = math.sqrt((theta**2/base_vol**4) + (2.0/(base_vol**2 * nu))) + theta/base_vol**2\n",
    "lambda_p = math.sqrt((theta**2/base_vol**4) + (2.0/(base_vol**2 * nu))) - theta/base_vol**2"
   ]
  },
  {
   "cell_type": "code",
   "execution_count": 16,
   "id": "758b01f7",
   "metadata": {},
   "outputs": [],
   "source": [
    "kx = np.arange(1, N+1) * dx\n",
    "g1_n = g1(kx * lambda_n, Y)\n",
    "g1_p = g1(kx * lambda_p, Y)\n",
    "g2_n = g2(kx * lambda_n, Y)\n",
    "g2_p = g2(kx * lambda_p, Y)\n",
    "g2_n_plus = g2(kx * (lambda_n+1), Y)\n",
    "g2_p_minus = g2(kx * (lambda_p-1), Y)\n",
    "\n",
    "sigma = sig_calculator(lambda_n) + sig_calculator(lambda_p)\n",
    "#omega = ((lp**Y) * g2(lp*epsilon, Y) - ((lp-1)**Y * g2((lp-1)*epsilon, Y)) \\\n",
    "# + (ln**Y) * g2(ln*epsilon, Y)  - ((ln+1)**Y * g2((ln+1)*epsilon, Y))) / nuJ\n",
    "omega = ((lambda_p**Y) * g2(lambda_p*EPS, Y) - ((lambda_p-1)**Y * g2((lambda_p-1)*EPS, Y)) \\\n",
    "+ (lambda_n**Y) * g2(lambda_n*EPS, Y)  - ((lambda_n+1)**Y * g2((lambda_n+1)*EPS, Y))) / nu\n",
    "\n",
    "alpha = sigma * dt / (2 * dx**2)\n",
    "beta = r - q + omega - (sigma / 2)\n",
    "\n",
    "Bl = alpha - beta * dt / (2*dx)\n",
    "Bu = alpha + beta * dt / (2*dx)"
   ]
  },
  {
   "cell_type": "code",
   "execution_count": 18,
   "id": "0b6b96a5",
   "metadata": {},
   "outputs": [],
   "source": [
    "def triDiag(LL, DD, UU, rhs):\n",
    "    n = len(rhs)\n",
    "    v = np.zeros(n)\n",
    "    y = np.zeros(n)\n",
    "    w = DD[0]\n",
    "    y[0] = 1.0 * rhs[0] / w\n",
    "    \n",
    "    for i in range(1, n):\n",
    "        v[i-1] = 1. * UU[i-1] / w\n",
    "        w = DD[i] - LL[i] * v[i-1]\n",
    "        y[i] = 1. * (rhs[i] - LL[i] * y[i-1]) / w\n",
    "    \n",
    "    for j in range(n-2, -1, -1):\n",
    "        y[j] = y[j] - v[j] * y[j+1]\n",
    "    \n",
    "    return y"
   ]
  },
  {
   "cell_type": "code",
   "execution_count": 19,
   "id": "c853a40b",
   "metadata": {},
   "outputs": [],
   "source": [
    "def sol(w):\n",
    "    ans = np.zeros(N-1)\n",
    "    for i in range(1, N):\n",
    "        if i == 1 or i == N-1:\n",
    "            ans[i-1] = 0\n",
    "        else:\n",
    "            for k in range(1, i):\n",
    "                ans[i-1] += lambda_n**Y * (w[i-k] - w[i] - k * (w[i-k-1] - w[i-k])) * (g2_n[k-1] - g2_n[k])\n",
    "                ans[i-1] += (w[i-k-1] - w[i-k]) * (g1_n[k-1] - g1_n[k]) / ((lambda_n ** (1-Y)) * dx)\n",
    "\n",
    "            for k in range(1, N-i):\n",
    "                ans[i-1] += lambda_p**Y * (w[i+k] - w[i] - k * (w[i+k+1] - w[i+k])) * (g2_p[k-1] - g2_p[k])\n",
    "                ans[i-1] += (w[i+k-1] - w[i+k]) * (g1_p[k-1] - g1_p[k]) / ((lambda_p ** (1-Y)) * dx)\n",
    "        ans[i-1] += K * lambda_n**Y * g2_n[i-1] - np.exp(x[i]) * (lambda_n + 1)**Y * g2_n_plus[i-1] \n",
    "    return ans"
   ]
  },
  {
   "cell_type": "code",
   "execution_count": 20,
   "id": "84adda17",
   "metadata": {},
   "outputs": [],
   "source": [
    "l = np.ones(N-1) * (-Bl)\n",
    "u = np.ones(N-1) * (-Bu)\n",
    "d = 1 + r*dt + Bu + Bl + dt * (lambda_n**Y * g2_n[:N-1] + lambda_p**Y * g2_p[::-1][:N-1]) / nu\n",
    "\n",
    "u[-1] =  0\n",
    "l[0] = 0\n",
    "\n",
    "s = np.exp(x)\n",
    "vCall = np.maximum(s - K, 0) * (s < Barrier)"
   ]
  },
  {
   "cell_type": "code",
   "execution_count": 21,
   "id": "3c5495f5",
   "metadata": {},
   "outputs": [
    {
     "name": "stdout",
     "output_type": "stream",
     "text": [
      "Iter = 50\n",
      "Iter = 100\n"
     ]
    }
   ],
   "source": [
    "for j in range(M):\n",
    "    if (j+1) % 50  == 0:\n",
    "        print('Iter = ' + str(j+1))   \n",
    "    rhs = (dt * sol(vCall) / nu) + vCall[1:N]\n",
    "    inner = triDiag(l, d, u, rhs)\n",
    "    vCall = np.pad(inner, (1, 1), 'constant', constant_values=(0, 0))"
   ]
  },
  {
   "cell_type": "code",
   "execution_count": 23,
   "id": "17019893",
   "metadata": {},
   "outputs": [
    {
     "name": "stdout",
     "output_type": "stream",
     "text": [
      "Price of the UOC option: 33.41145860422139\n"
     ]
    }
   ],
   "source": [
    "uoc_imp = np.interp(np.log(S_0), x, vCall)\n",
    "print('Price of the UOC option:', uoc_imp)"
   ]
  }
 ],
 "metadata": {
  "kernelspec": {
   "display_name": "Python 3 (ipykernel)",
   "language": "python",
   "name": "python3"
  },
  "language_info": {
   "codemirror_mode": {
    "name": "ipython",
    "version": 3
   },
   "file_extension": ".py",
   "mimetype": "text/x-python",
   "name": "python",
   "nbconvert_exporter": "python",
   "pygments_lexer": "ipython3",
   "version": "3.9.12"
  }
 },
 "nbformat": 4,
 "nbformat_minor": 5
}
