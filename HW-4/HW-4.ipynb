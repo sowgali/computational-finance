{
 "cells": [
  {
   "cell_type": "code",
   "execution_count": 82,
   "id": "48ebd9ee",
   "metadata": {},
   "outputs": [],
   "source": [
    "import numpy as np\n",
    "from scipy.optimize import fmin"
   ]
  },
  {
   "cell_type": "code",
   "execution_count": 83,
   "id": "96b0d486",
   "metadata": {},
   "outputs": [],
   "source": [
    "heston_parameters = [0.02, 1.5, 0.05, 0.18, 0.5, 0.04]"
   ]
  },
  {
   "cell_type": "markdown",
   "id": "ed50f552",
   "metadata": {},
   "source": [
    "# Simulation of stock prices"
   ]
  },
  {
   "cell_type": "code",
   "execution_count": 84,
   "id": "1c4c2da0",
   "metadata": {},
   "outputs": [],
   "source": [
    "def simulate_heston(params, S0, T):\n",
    "    dt = 1.0/T\n",
    "    mu, kappa, theta, lbd, rho, v0 = params\n",
    "    sim_array = np.zeros((T+1,2))\n",
    "    sim_array[0,:] = S0, v0\n",
    "    w = np.random.normal(size=(T,2))\n",
    "    for i in range(1,T+1):\n",
    "        prev_s, prev_v = sim_array[i-1, :]\n",
    "        vi = prev_v + kappa*(theta-max(0,prev_v))*dt + lbd*np.sqrt(max(0,prev_v)*dt)*w[i-1][0]\n",
    "        w_corr = rho * w[i-1, 0] + np.sqrt(1-rho**2) * w[i-1, 1]\n",
    "        si = prev_s + (mu - 0.5*max(0,prev_v))*dt + np.sqrt(max(0,prev_v)*dt)*w_corr\n",
    "        sim_array[i, :] = si,vi\n",
    "    return sim_array[:,0]"
   ]
  },
  {
   "cell_type": "markdown",
   "id": "122f2aa0",
   "metadata": {},
   "source": [
    "# Extended Kalman Filter"
   ]
  },
  {
   "cell_type": "code",
   "execution_count": 95,
   "id": "95b60e8a",
   "metadata": {},
   "outputs": [],
   "source": [
    "def extended_kalman(params, H, P, T, s):\n",
    "    mu, kappa, theta, lbd, rho, v0 = params\n",
    "    dt = 1.0/T\n",
    "    F = np.array([[1., -0.5*dt], \n",
    "                  [0., 1 - kappa*dt]])\n",
    "    Q = np.array([[1., rho], \n",
    "                 [rho, 1.]])\n",
    "    loglikelihood = 0\n",
    "    v = v0\n",
    "    \n",
    "    for t in range(1, T+1):\n",
    "        U = np.diag([np.sqrt(v*dt), lbd * np.sqrt(v*dt)])\n",
    "        prev_y = s[t-1]\n",
    "        x1 = np.array([prev_y + (mu - 0.5*v)*dt,\n",
    "                      v + kappa*(theta-v)*dt])\n",
    "        P1 = F@P@F.T + U@Q@U.T\n",
    "        S = H@P1@H.T\n",
    "        K = P1@H.T/S\n",
    "        v1 = x1[1]\n",
    "        e = s[t] - s[t-1] - (mu - 0.5*v1)*dt\n",
    "        loglikelihood += np.log(S) + e**2/S\n",
    "        x = x1 + K*e\n",
    "        v = x[1]\n",
    "        P = (np.diag([1., 1.]) - np.outer(K, H)) @ P1\n",
    "    return loglikelihood"
   ]
  },
  {
   "cell_type": "code",
   "execution_count": 96,
   "id": "41ef297c",
   "metadata": {},
   "outputs": [
    {
     "name": "stdout",
     "output_type": "stream",
     "text": [
      "Optimization terminated successfully.\n",
      "         Current function value: -37200.594403\n",
      "         Iterations: 23\n",
      "         Function evaluations: 38\n"
     ]
    }
   ],
   "source": [
    "H = np.array([1, 0])\n",
    "P = np.diag([0.01, 0.01])\n",
    "initial_param = [0.033, 1.7, 0.08, 0.14, 0.36, 0.023]\n",
    "T = 10*365\n",
    "S0 = 3.66\n",
    "s = simulate_heston(heston_parameters, S0, T)\n",
    "ekm = fmin(extended_kalman, initial_param, args=(H,P,T,s), full_output=True, disp=True, xtol=10, ftol=20)\n",
    "ekm_param = np.round(ekm[0], 4)"
   ]
  },
  {
   "cell_type": "code",
   "execution_count": 98,
   "id": "1e3cbfcf",
   "metadata": {},
   "outputs": [
    {
     "name": "stdout",
     "output_type": "stream",
     "text": [
      "Est. Parameters:  [0.0269 2.5144 0.0514 0.1345 0.2493 0.0355]\n",
      "True Parameters:  [0.02, 1.5, 0.05, 0.18, 0.5, 0.04]\n",
      "Absolute Error:   1.0144000000000002\n",
      "RMSE:             1.045943554882385\n"
     ]
    }
   ],
   "source": [
    "print(\"Est. Parameters: \", ekm_param)\n",
    "print(\"True Parameters: \", heston_parameters)\n",
    "print(\"Absolute Error:  \", np.max(ekm_param - heston_parameters))\n",
    "print(\"RMSE:            \", np.linalg.norm(ekm_param - heston_parameters))"
   ]
  },
  {
   "cell_type": "markdown",
   "id": "a78bb9d5",
   "metadata": {},
   "source": [
    "# Particle Filter"
   ]
  },
  {
   "cell_type": "markdown",
   "id": "80f3ebab",
   "metadata": {},
   "source": [
    "## Sampling Importance Resampling"
   ]
  },
  {
   "cell_type": "code",
   "execution_count": 70,
   "id": "fbff1b8e",
   "metadata": {},
   "outputs": [],
   "source": [
    "# Avoids degeneracy problem\n",
    "def resampling(w,x):\n",
    "    N = len(x)\n",
    "    c = np.cumsum(w)\n",
    "    U = (np.arange(N) + np.random.rand(N))/N\n",
    "    i = 1\n",
    "    x_new = np.zeros(N)\n",
    "    for j in range(N):\n",
    "        while U[j] > c[i]:\n",
    "            i += 1\n",
    "        x_new[j] = x[i]\n",
    "    w_new = np.ones(N)/N\n",
    "    return x_new, w_new"
   ]
  },
  {
   "cell_type": "code",
   "execution_count": 72,
   "id": "5acf518d",
   "metadata": {},
   "outputs": [],
   "source": [
    "def n(x,m,s):\n",
    "    return np.exp(-((x-m)**2)/(2*s**2))/(np.sqrt(2*np.pi)*s)"
   ]
  },
  {
   "cell_type": "code",
   "execution_count": 79,
   "id": "f26b7b63",
   "metadata": {},
   "outputs": [],
   "source": [
    "def particleFilter(params, N, T, s):\n",
    "    mu, kappa, theta, lbd, rho, v0 = params\n",
    "    dt = 1.0/T\n",
    "    w = np.ones(N)/N\n",
    "    c = 1/(1 + (rho*lbd*dt)/2)\n",
    "    c2 = rho*lbd*dt\n",
    "    v = v0*np.ones(N)\n",
    "    loglikelihood = 0\n",
    "    for t in range(1, T+1):\n",
    "        z1 = np.random.normal(N)\n",
    "        z2 = np.random.normal(N)\n",
    "        vt = (v + kappa*(theta-v)*dt + (-c2/2)*v \\\n",
    "              + lbd*np.sqrt(v*(1-rho**2)*dt)*z2 \\\n",
    "              + rho*lbd*np.sqrt(v*dt)*z1)/c\n",
    "        yt, y_prev = s[t], s[t-1]\n",
    "        m_i = v + kappa*(theta - v)*dt + lbd*rho*(yt-y_prev - (mu - 0.5*v)*dt)\n",
    "        s_i = lbd*np.sqrt(v*(1-rho**2)*dt)\n",
    "        m_T = c*(v + kappa*(theta - v)*dt + 0.5*lbd*rho*v*dt)\n",
    "        s_T = c*lbd*np.sqrt(v*dt)\n",
    "        m_L = y_prev + (mu - 0.5*vt) * dt\n",
    "        s_L = np.sqrt(v * dt)\n",
    "        r = n(yt, m_L, s_L)*n(vt, m_T, s_T) / n(vt, m_i, s_i)\n",
    "        w *= r\n",
    "        loglikelihood += np.log(np.sum(w))\n",
    "        w /= np.sum(w)\n",
    "        v, w = resampling(w, vt)\n",
    "    return -loglikelihood"
   ]
  },
  {
   "cell_type": "code",
   "execution_count": 80,
   "id": "489c7262",
   "metadata": {},
   "outputs": [
    {
     "name": "stderr",
     "output_type": "stream",
     "text": [
      "/var/folders/m4/52jcfz5d7tldnd1yw00622fm0000gn/T/ipykernel_16277/1032910003.py:22: RuntimeWarning: divide by zero encountered in true_divide\n",
      "  r = n(yt, m_L, s_L)*n(vt, m_T, s_T) / n(vt, m_i, s_i)\n",
      "/var/folders/m4/52jcfz5d7tldnd1yw00622fm0000gn/T/ipykernel_16277/1032910003.py:25: RuntimeWarning: invalid value encountered in true_divide\n",
      "  w /= np.sum(w)\n"
     ]
    },
    {
     "name": "stdout",
     "output_type": "stream",
     "text": [
      "Warning: Maximum number of function evaluations has been exceeded.\n"
     ]
    }
   ],
   "source": [
    "initial_param = [0.033, 1.7, 0.08, 0.14, 0.36, 0.023]\n",
    "T = 10*365\n",
    "S0 = 3.66\n",
    "s = simulate_heston(heston_parameters, S0, T)\n",
    "N = 20\n",
    "pf = fmin(particleFilter, initial_param, args=(N,T,s), full_output=True, disp=True, xtol=10, ftol=20)\n",
    "pf_param = np.round(pf[0], 4)"
   ]
  },
  {
   "cell_type": "code",
   "execution_count": 81,
   "id": "154644fa",
   "metadata": {},
   "outputs": [
    {
     "name": "stdout",
     "output_type": "stream",
     "text": [
      "Est. Parameters:  [0.0385 1.3094 0.0804 0.0622 0.6373 0.0271]\n",
      "True Parameters:  [0.02, 1.5, 0.05, 0.18, 0.5, 0.04]\n",
      "Absolute Error:   0.13729999999999998\n",
      "RMSE:             0.26549822974927734\n"
     ]
    }
   ],
   "source": [
    "print(\"Est. Parameters: \", pf_param)\n",
    "print(\"True Parameters: \", heston_parameters)\n",
    "print(\"Absolute Error:  \", np.max(pf_param - heston_parameters))\n",
    "print(\"RMSE:            \", np.linalg.norm(pf_param - heston_parameters))"
   ]
  }
 ],
 "metadata": {
  "kernelspec": {
   "display_name": "Python 3 (ipykernel)",
   "language": "python",
   "name": "python3"
  },
  "language_info": {
   "codemirror_mode": {
    "name": "ipython",
    "version": 3
   },
   "file_extension": ".py",
   "mimetype": "text/x-python",
   "name": "python",
   "nbconvert_exporter": "python",
   "pygments_lexer": "ipython3",
   "version": "3.9.12"
  }
 },
 "nbformat": 4,
 "nbformat_minor": 5
}
