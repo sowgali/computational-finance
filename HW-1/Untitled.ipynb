{
 "cells": [
  {
   "cell_type": "code",
   "execution_count": 39,
   "id": "cac89745",
   "metadata": {},
   "outputs": [],
   "source": [
    "import sys\n",
    "from collections import defaultdict\n",
    "import math\n",
    "import random\n",
    "import os\n",
    "import os.path\n",
    "\"\"\"\n",
    "COMS W4705 - Natural Language Processing - Fall 2022 \n",
    "Prorgramming Homework 1 - Trigram Language Models\n",
    "Daniel Bauer\n",
    "\"\"\"\n",
    "\n",
    "def corpus_reader(corpusfile, lexicon=None): \n",
    "    with open(corpusfile,'r') as corpus: \n",
    "        for line in corpus: \n",
    "            if line.strip():\n",
    "                sequence = line.lower().strip().split()\n",
    "                if lexicon: \n",
    "                    yield [word if word in lexicon else \"UNK\" for word in sequence]\n",
    "                else: \n",
    "                    yield sequence\n",
    "\n",
    "def get_lexicon(corpus):\n",
    "    word_counts = defaultdict(int)\n",
    "    for sentence in corpus:\n",
    "        for word in sentence: \n",
    "            word_counts[word] += 1\n",
    "    return set(word for word in word_counts if word_counts[word] > 1)  \n",
    "\n",
    "\n",
    "\n",
    "def get_ngrams(sequence, n):\n",
    "    \"\"\"\n",
    "    COMPLETE THIS FUNCTION (PART 1)\n",
    "    Given a sequence, this function should return a list of n-grams, where each n-gram is a Python tuple.\n",
    "    This should work for arbitrary values of n >= 1 \n",
    "    \"\"\"\n",
    "    if n == 1:\n",
    "        ngram_list = [tuple([\"START\"])]\n",
    "        for seq in sequence:\n",
    "            ngram_list.append(tuple([seq]))\n",
    "        ngram_list.append(tuple([\"STOP\"]))\n",
    "    else:\n",
    "        ngram_list = [tuple([\"START\" for _ in range(n-1)] + [sequence[0]])]\n",
    "        for seq in sequence[1:]:\n",
    "            prevSeq = list(ngram_list[-1])\n",
    "            ngram_list.append(tuple(prevSeq[1:]+[seq]))\n",
    "        prevSeq = list(ngram_list[-1])\n",
    "        ngram_list.append(tuple(prevSeq[1:]+[\"STOP\"]))\n",
    "\n",
    "    return ngram_list\n",
    "\n",
    "\n",
    "class TrigramModel(object):\n",
    "    \n",
    "    def __init__(self, corpusfile):\n",
    "    \n",
    "        # Iterate through the corpus once to build a lexicon \n",
    "        generator = corpus_reader(corpusfile)\n",
    "        self.lexicon = get_lexicon(generator)\n",
    "        self.lexicon.add(\"UNK\")\n",
    "        self.lexicon.add(\"START\")\n",
    "        self.lexicon.add(\"STOP\")\n",
    "    \n",
    "        # Now iterate through the corpus again and count ngrams\n",
    "        generator = corpus_reader(corpusfile, self.lexicon)\n",
    "        self.count_ngrams(generator)\n",
    "\n",
    "\n",
    "    def count_ngrams(self, corpus):\n",
    "        \"\"\"\n",
    "        COMPLETE THIS METHOD (PART 2)\n",
    "        Given a corpus iterator, populate dictionaries of unigram, bigram,\n",
    "        and trigram counts. \n",
    "        \"\"\"\n",
    "   \n",
    "        self.unigramcounts = {} # might want to use defaultdict or Counter instead\n",
    "        self.bigramcounts = {} \n",
    "        self.trigramcounts = {}\n",
    "        self.unigram_start = {}\n",
    "        self.total_unigrams = 0.0\n",
    "        self.total_sentences = 0.0\n",
    "\n",
    "        ##Your code here\n",
    "        for sentence in corpus:\n",
    "            self.total_sentences += 1\n",
    "            unigram_list = get_ngrams(sentence, 1)\n",
    "            bigram_list = get_ngrams(sentence, 2)\n",
    "            trigram_list = get_ngrams(sentence, 3)\n",
    "\n",
    "            for unigram in unigram_list:\n",
    "                if unigram not in self.unigramcounts.keys():\n",
    "                    self.unigramcounts[unigram] = 1\n",
    "                else:\n",
    "                    self.unigramcounts[unigram] += 1\n",
    "                self.total_unigrams += 1\n",
    "            \n",
    "            for bigram in bigram_list:\n",
    "                if bigram not in self.bigramcounts.keys():\n",
    "                    self.bigramcounts[bigram] = 1\n",
    "                else:\n",
    "                    self.bigramcounts[bigram] += 1\n",
    "            \n",
    "            for trigram in trigram_list:\n",
    "                if trigram not in self.trigramcounts.keys():\n",
    "                    self.trigramcounts[trigram] = 1\n",
    "                else:\n",
    "                    self.trigramcounts[trigram] += 1\n",
    "                leading_bigram = tuple(list(trigram)[:-1])\n",
    "                if leading_bigram == (\"START\",\"START\"):\n",
    "                    if leading_bigram not in self.bigramcounts.keys():\n",
    "                        self.bigramcounts[leading_bigram] = 1\n",
    "                    else:\n",
    "                        self.bigramcounts[leading_bigram] += 1\n",
    "\n",
    "        return\n",
    "\n",
    "    def raw_trigram_probability(self,trigram):\n",
    "        \"\"\"\n",
    "        COMPLETE THIS METHOD (PART 3)\n",
    "        Returns the raw (unsmoothed) trigram probability\n",
    "        \"\"\"\n",
    "        trig = tuple([\"UNK\" if word not in self.lexicon else word for word in list(trigram)])\n",
    "        bigram = tuple(list(trig)[:-1])\n",
    "        prob = 1/(len(self.lexicon)-1)\n",
    "        if bigram == (\"START\", \"START\") and trig[1:] in self.bigramcounts:\n",
    "            prob =  self.bigramcounts[trig[1:]]/self.total_sentences\n",
    "        elif bigram in self.bigramcounts and trig in self.trigramcounts:\n",
    "            prob = self.trigramcounts[trig]/self.bigramcounts[bigram]\n",
    "        return prob\n",
    "\n",
    "    def raw_bigram_probability(self, bigram):\n",
    "        \"\"\"\n",
    "        COMPLETE THIS METHOD (PART 3)\n",
    "        Returns the raw (unsmoothed) bigram probability\n",
    "        \"\"\"\n",
    "        bigr = tuple([\"UNK\" if word not in self.lexicon else word for word in list(bigram)])\n",
    "        unigram = tuple(list(bigr)[:-1])\n",
    "        prob = 0.0\n",
    "        if bigr[0] == \"START\" and bigr in self.bigramcounts:\n",
    "            prob = self.bigramcounts[bigr]/self.total_sentences\n",
    "        elif unigram in self.unigramcounts and bigr in self.bigramcounts:\n",
    "            prob = self.bigramcounts[bigr]/self.unigramcounts[unigram]            \n",
    "        return prob\n",
    "    \n",
    "    def raw_unigram_probability(self, unigram):\n",
    "        \"\"\"\n",
    "        COMPLETE THIS METHOD (PART 3)\n",
    "        Returns the raw (unsmoothed) unigram probability.\n",
    "        \"\"\"\n",
    "        #hint: recomputing the denominator every time the method is called\n",
    "        # can be slow! You might want to compute the total number of words once, \n",
    "        # store in the TrigramModel instance, and then re-use it.  \n",
    "        unigr = tuple([\"UNK\" if word not in self.lexicon else word for word in list(unigram)])\n",
    "        try:\n",
    "            prob = self.unigramcounts[unigr]/self.total_sentences\n",
    "        except:\n",
    "            prob = 0.0\n",
    "        return prob\n",
    "\n",
    "    def generate_sentence(self,t=20): \n",
    "        \"\"\"\n",
    "        COMPLETE THIS METHOD (OPTIONAL)\n",
    "        Generate a random sentence from the trigram model. t specifies the\n",
    "        max length, but the sentence may be shorter if STOP is reached.\n",
    "        \"\"\"\n",
    "        return result            \n",
    "\n",
    "    def smoothed_trigram_probability(self, trigram):\n",
    "        \"\"\"\n",
    "        COMPLETE THIS METHOD (PART 4)\n",
    "        Returns the smoothed trigram probability (using linear interpolation). \n",
    "        \"\"\"\n",
    "        lambda1 = 1/3.0\n",
    "        lambda2 = 1/3.0\n",
    "        lambda3 = 1/3.0\n",
    "        bigram = tuple(list(trigram)[:-1])\n",
    "        unigram = tuple(list(bigram)[:-1])\n",
    "        prob_trigram = self.raw_trigram_probability(trigram=trigram)\n",
    "        prob_bigram = self.raw_bigram_probability(bigram=bigram)\n",
    "        prob_unigram = self.raw_unigram_probability(unigram=unigram)\n",
    "\n",
    "        return lambda1*prob_trigram+lambda2*prob_bigram+lambda3*prob_unigram\n",
    "        \n",
    "    def sentence_logprob(self, sentence):\n",
    "        \"\"\"\n",
    "        COMPLETE THIS METHOD (PART 5)\n",
    "        Returns the log probability of an entire sequence.\n",
    "        \"\"\"\n",
    "        trigrams = get_ngrams(sentence,3)\n",
    "        logprob = 0.0\n",
    "        for trigram in trigrams:\n",
    "            trigram = tuple([\"UNK\" if word not in self.lexicon else word for word in list(trigram)])\n",
    "            logprob += math.log2(self.smoothed_trigram_probability(trigram))\n",
    "        return logprob\n",
    "\n",
    "    def perplexity(self, corpus):\n",
    "        \"\"\"\n",
    "        COMPLETE THIS METHOD (PART 6) \n",
    "        Returns the log probability of an entire sequence.\n",
    "        \"\"\"\n",
    "        l = 0.0\n",
    "        lengths = 0\n",
    "        for sentence in corpus:\n",
    "            l += self.sentence_logprob(sentence)\n",
    "            lengths += (len(sentence)-1)\n",
    "        l = (l/lengths)\n",
    "        return math.pow(2,-l)\n",
    "\n",
    "\n",
    "def essay_scoring_experiment(training_file1, training_file2, testdir1, testdir2):\n",
    "\n",
    "        model1 = TrigramModel(training_file1)\n",
    "        model2 = TrigramModel(training_file2)\n",
    "\n",
    "        total = 0.0\n",
    "        correct = 0.0       \n",
    " \n",
    "        for f in os.listdir(testdir1):\n",
    "            pp = model1.perplexity(corpus_reader(os.path.join(testdir1, f)))\n",
    "            pp2 = model2.perplexity(corpus_reader(os.path.join(testdir1, f)))\n",
    "            if pp < pp2:\n",
    "                correct += 1\n",
    "            total += 1\n",
    "        # print(\"=============\")\n",
    "        for f in os.listdir(testdir2):\n",
    "            pp = model2.perplexity(corpus_reader(os.path.join(testdir2, f)))\n",
    "            # print(\"=============\")\n",
    "            pp2 = model1.perplexity(corpus_reader(os.path.join(testdir2, f)))\n",
    "            if pp < pp2:\n",
    "                correct += 1\n",
    "            total += 1\n",
    "        \n",
    "        return (correct/total)\n",
    "\n",
    "# if __name__ == \"__main__\":\n",
    "\n",
    "#     model = TrigramModel(sys.argv[1]) \n",
    "\n",
    "#     # put test code here...\n",
    "#     # or run the script from the command line with \n",
    "#     # $ python -i trigram_model.py [corpus_file]\n",
    "#     # >>> \n",
    "#     #\n",
    "#     # you can then call methods on the model instance in the interactive \n",
    "#     # Python prompt. \n",
    "\n",
    "    \n",
    "#     # Testing perplexity: \n",
    "#     dev_corpus = corpus_reader(sys.argv[2], model.lexicon)\n",
    "#     pp = model.perplexity(dev_corpus)\n",
    "#     print(pp)\n",
    "\n",
    "\n",
    "#     # Essay scoring experiment: \n",
    "#     acc = essay_scoring_experiment('hw1_data/ets_toefl_data/train_high.txt', \"hw1_data/ets_toefl_data/train_low.txt\", \"hw1_data/ets_toefl_data/test_high\", \"hw1_data/ets_toefl_data/test_low\")\n",
    "#     print(acc)\n",
    "\n"
   ]
  },
  {
   "cell_type": "code",
   "execution_count": 37,
   "id": "d210e92d",
   "metadata": {},
   "outputs": [],
   "source": [
    "model = TrigramModel(\"/Users/sowryagali/Documents/Classes/NLP/Assignments/HW-1/hw1_data/brown_train.txt\") "
   ]
  },
  {
   "cell_type": "code",
   "execution_count": 25,
   "id": "6449e2d9",
   "metadata": {},
   "outputs": [
    {
     "data": {
      "text/plain": [
       "0.46743884269716923"
      ]
     },
     "execution_count": 25,
     "metadata": {},
     "output_type": "execute_result"
    }
   ],
   "source": [
    "model.raw_unigram_probability([\"ABC\"])"
   ]
  },
  {
   "cell_type": "code",
   "execution_count": 9,
   "id": "0611a6fc",
   "metadata": {},
   "outputs": [
    {
     "data": {
      "text/plain": [
       "41614"
      ]
     },
     "execution_count": 9,
     "metadata": {},
     "output_type": "execute_result"
    }
   ],
   "source": [
    "model.unigramcounts[(\"START\", )]"
   ]
  },
  {
   "cell_type": "code",
   "execution_count": 10,
   "id": "35db9e29",
   "metadata": {},
   "outputs": [
    {
     "data": {
      "text/plain": [
       "41614"
      ]
     },
     "execution_count": 10,
     "metadata": {},
     "output_type": "execute_result"
    }
   ],
   "source": [
    "model.bigramcounts[(\"START\", \"START\" )]"
   ]
  },
  {
   "cell_type": "code",
   "execution_count": 12,
   "id": "d058622b",
   "metadata": {},
   "outputs": [
    {
     "data": {
      "text/plain": [
       "882"
      ]
     },
     "execution_count": 12,
     "metadata": {},
     "output_type": "execute_result"
    }
   ],
   "source": [
    "model.trigramcounts[(\"START\", \"START\", \"i\")]"
   ]
  },
  {
   "cell_type": "code",
   "execution_count": 40,
   "id": "f0f3ed49",
   "metadata": {},
   "outputs": [
    {
     "data": {
      "text/plain": [
       "0.7808764940239044"
      ]
     },
     "execution_count": 40,
     "metadata": {},
     "output_type": "execute_result"
    }
   ],
   "source": [
    "essay_scoring_experiment('/Users/sowryagali/Documents/Classes/NLP/Assignments/HW-1/hw1_data/ets_toefl_data/train_high.txt',\\\n",
    "                         \"/Users/sowryagali/Documents/Classes/NLP/Assignments/HW-1/hw1_data/ets_toefl_data/train_low.txt\", \\\n",
    "                         \"/Users/sowryagali/Documents/Classes/NLP/Assignments/HW-1/hw1_data/ets_toefl_data/test_high\",\\\n",
    "                         \"/Users/sowryagali/Documents/Classes/NLP/Assignments/HW-1/hw1_data/ets_toefl_data/test_low\")"
   ]
  },
  {
   "cell_type": "code",
   "execution_count": null,
   "id": "6a23a91b",
   "metadata": {},
   "outputs": [],
   "source": []
  }
 ],
 "metadata": {
  "kernelspec": {
   "display_name": "Python 3 (ipykernel)",
   "language": "python",
   "name": "python3"
  },
  "language_info": {
   "codemirror_mode": {
    "name": "ipython",
    "version": 3
   },
   "file_extension": ".py",
   "mimetype": "text/x-python",
   "name": "python",
   "nbconvert_exporter": "python",
   "pygments_lexer": "ipython3",
   "version": "3.9.12"
  }
 },
 "nbformat": 4,
 "nbformat_minor": 5
}
