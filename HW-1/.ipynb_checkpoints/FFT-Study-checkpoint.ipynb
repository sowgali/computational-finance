{
 "cells": [
  {
   "cell_type": "code",
   "execution_count": 97,
   "id": "3c2ee62a",
   "metadata": {},
   "outputs": [],
   "source": [
    "import numpy as np\n",
    "import matplotlib.pyplot as plt\n",
    "import math\n",
    "import cmath"
   ]
  },
  {
   "cell_type": "markdown",
   "id": "617154f5",
   "metadata": {},
   "source": [
    "# Details of underlying asset"
   ]
  },
  {
   "cell_type": "code",
   "execution_count": 262,
   "id": "862d20f5",
   "metadata": {},
   "outputs": [],
   "source": [
    "S_0 = 1900.0\n",
    "s_0 = math.log(S_0)\n",
    "T = 0.25\n",
    "sigma = 0.36\n",
    "r = 0.02\n",
    "q = 0.0187\n",
    "strike_range = [2000.0, 2100.0, 2200.0]"
   ]
  },
  {
   "cell_type": "code",
   "execution_count": 263,
   "id": "207d415c",
   "metadata": {},
   "outputs": [],
   "source": [
    "def characteristic_function(u,t):\n",
    "    first_term = 1j*(s_0 + (r-q-((sigma**2)/2))*t)*u\n",
    "    second_term = (0.5)*(sigma**2)*(u**2)*t\n",
    "    return np.exp(first_term-second_term)"
   ]
  },
  {
   "cell_type": "code",
   "execution_count": 297,
   "id": "f37b0603",
   "metadata": {},
   "outputs": [],
   "source": [
    "cf2 = lambda u: np.exp((r-q - 0.5 * np.power(sigma,2.0)) * 1j * u * T - 0.5 \n",
    "                          * np.power(sigma, 2.0) * np.power(u, 2.0) * T)"
   ]
  },
  {
   "cell_type": "markdown",
   "id": "c0e51d4f",
   "metadata": {},
   "source": [
    "# FFT"
   ]
  },
  {
   "cell_type": "code",
   "execution_count": 166,
   "id": "ac9627fa",
   "metadata": {},
   "outputs": [],
   "source": [
    "def fft_for_k(K, alpha, n, eta = 0.25):\n",
    "    N = 2**n\n",
    "    lbd = (math.pi*2/N)/eta\n",
    "    beta = math.log(K) - (lbd*N/2)\n",
    "    k = beta + lbd*(np.arange(N))\n",
    "    df = math.exp(-r*T)\n",
    "    nuJ = np.arange(N)*eta\n",
    "    cf = characteristic_function(nuJ-((1+alpha)*1j),0.25)/((alpha + 1j*nuJ)*(alpha + 1 + 1j*nuJ))\n",
    "    factor1 = eta*np.exp(-1j*beta*nuJ)*df\n",
    "    factor1[0] /= 2.0\n",
    "    X = np.multiply(factor1, cf)\n",
    "    Y = np.fft.fft(X)\n",
    "    C = Y.real\n",
    "    factor = (np.exp(-alpha*k)/math.pi)\n",
    "    C = np.multiply(C,factor)\n",
    "    return C,k"
   ]
  },
  {
   "cell_type": "code",
   "execution_count": 171,
   "id": "e30b1621",
   "metadata": {},
   "outputs": [
    {
     "name": "stdout",
     "output_type": "stream",
     "text": [
      "95.25\n"
     ]
    }
   ],
   "source": [
    "C,k = fft_for_k(2000,1.0,12)\n",
    "cT_k = np.interp(math.log(2000), k, C)\n",
    "print(\"{:.2f}\".format(cT_k))"
   ]
  },
  {
   "cell_type": "code",
   "execution_count": null,
   "id": "ac4a6c3c",
   "metadata": {},
   "outputs": [],
   "source": [
    "a = []\n",
    "l = \"\"\n",
    "alpha_range = [0.4, 1.0, 1.4, 3.0]\n",
    "n_range = [9, 11, 13, 15]\n",
    "for alpha in alpha_range:\n",
    "    l += \"\\multicolumn{{4}} {{|c|}} {{{:.2f}}} & \".format(alpha)\n",
    "    for strike in strike_range:\n",
    "        for n in n_range:\n",
    "            C,km = fft_for_k(strike,alpha,n)\n",
    "            cT_k = np.interp(math.log(strike), km, C)\n",
    "            l += \"{:.2f} & \".format(cT_k)\n",
    "    l = l[:-2] + \"\\\\\\\\\"\n",
    "    a.append(l)\n",
    "    a.append(\"\\hline\")\n",
    "    l = \"\"\n",
    "for s in a:\n",
    "    print(s)"
   ]
  },
  {
   "cell_type": "markdown",
   "id": "527950cc",
   "metadata": {},
   "source": [
    "# Fractional-FFT"
   ]
  },
  {
   "cell_type": "code",
   "execution_count": 247,
   "id": "ca1bf4da",
   "metadata": {},
   "outputs": [],
   "source": [
    "def frFFT_for_k(K, alpha, n, eta = 0.25, lbd = 0.1):\n",
    "    N = 2**n\n",
    "    gamma = (eta*lbd)/(2*math.pi)\n",
    "    beta = math.log(K) - (lbd*N/2)\n",
    "    k = beta + lbd*(np.arange(N))\n",
    "    df = math.exp(-r*T)\n",
    "    nuJ = np.arange(N)*eta\n",
    "    cf = characteristic_function(nuJ-((1+alpha)*1j),0.25)/((alpha + 1j*nuJ)*(alpha + 1 + 1j*nuJ))\n",
    "    factor1 = eta*np.exp(-1j*beta*nuJ)*df\n",
    "    factor1[0] /= 2.0\n",
    "    X = np.multiply(factor1, cf)\n",
    "    exp_factor = np.exp(-1j * math.pi * gamma * np.arange(N)**2)\n",
    "    Y = np.hstack((np.multiply(exp_factor,X), np.zeros(N, dtype=np.clongdouble)))\n",
    "    Z = np.hstack((1/exp_factor, np.copy(np.flip(1/exp_factor))))\n",
    "    Y_hat = np.fft.fft(Y)\n",
    "    Z_hat = np.fft.fft(Z)\n",
    "    zeta = np.multiply(Y_hat, Z_hat)\n",
    "    zeta_t = np.fft.ifft(zeta)\n",
    "    zeta_hat = zeta_t[:N]\n",
    "    factor = np.exp(-alpha*(beta + np.arange(N)*lbd))/math.pi\n",
    "    C = np.multiply(factor, np.multiply(zeta_hat, exp_factor).real)\n",
    "    return C,k"
   ]
  },
  {
   "cell_type": "code",
   "execution_count": 248,
   "id": "20a8eb0d",
   "metadata": {},
   "outputs": [
    {
     "name": "stdout",
     "output_type": "stream",
     "text": [
      "95.24669244956921\n"
     ]
    }
   ],
   "source": [
    "C,km = frFFT_for_k(2000,1.0,12)\n",
    "cT_k = np.interp(math.log(2000), km, C)\n",
    "print(cT_k)"
   ]
  },
  {
   "cell_type": "code",
   "execution_count": 249,
   "id": "76aae3cb",
   "metadata": {},
   "outputs": [
    {
     "name": "stdout",
     "output_type": "stream",
     "text": [
      "\\multicolumn{4} {|c|} {0.40} & 95.61 & 95.33 & 95.33 & 95.33 & 65.61 & 64.92 & 64.92 & 64.92 & 43.88 & 43.03 & 43.03 & 43.03 \\\\\n",
      "\\hline\n",
      "\\multicolumn{4} {|c|} {1.00} & 95.22 & 95.25 & 95.25 & 95.25 & 65.28 & 64.84 & 64.83 & 64.83 & 43.65 & 42.95 & 42.95 & 42.95 \\\\\n",
      "\\hline\n",
      "\\multicolumn{4} {|c|} {1.40} & 95.01 & 95.24 & 95.25 & 95.25 & 65.10 & 64.84 & 64.83 & 64.83 & 43.52 & 42.95 & 42.95 & 42.95 \\\\\n",
      "\\hline\n",
      "\\multicolumn{4} {|c|} {3.00} & 94.38 & 95.24 & 95.25 & 95.25 & 64.41 & 64.83 & 64.83 & 64.83 & 42.93 & 42.95 & 42.95 & 42.95 \\\\\n",
      "\\hline\n"
     ]
    }
   ],
   "source": [
    "a = []\n",
    "l = \"\"\n",
    "alpha_range = [0.4, 1.0, 1.4, 3.0]\n",
    "n_range = [6, 7, 8, 9]\n",
    "for alpha in alpha_range:\n",
    "    l += \"\\multicolumn{{4}} {{|c|}} {{{:.2f}}} & \".format(alpha)\n",
    "    for strike in strike_range:\n",
    "        for n in n_range:\n",
    "            C,km = frFFT_for_k(strike,alpha,n)\n",
    "            cT_k = np.interp(math.log(strike), km, C)\n",
    "            l += \"{:.2f} & \".format(cT_k)\n",
    "    l = l[:-2] + \"\\\\\\\\\"\n",
    "    a.append(l)\n",
    "    a.append(\"\\hline\")\n",
    "    l = \"\"\n",
    "for s in a:\n",
    "    print(s)"
   ]
  },
  {
   "cell_type": "markdown",
   "id": "0bc1e138",
   "metadata": {},
   "source": [
    "# COS Method"
   ]
  },
  {
   "cell_type": "code",
   "execution_count": 251,
   "id": "17ad2573",
   "metadata": {},
   "outputs": [],
   "source": [
    "def Chi(a,b,c,d,k):\n",
    "    chi = 1.0 / (1.0 + np.power((k * np.pi / (b - a)) , 2.0)) \n",
    "    expr1 = np.cos(k * np.pi * (d - a)/(b - a)) * np.exp(d)  - np.cos(k * np.pi \n",
    "                  * (c - a) / (b - a)) * np.exp(c)\n",
    "    expr2 = k * np.pi / (b - a) * np.sin(k * np.pi * \n",
    "                        (d - a) / (b - a))   - k * np.pi / (b - a) * np.sin(k \n",
    "                        * np.pi * (c - a) / (b - a)) * np.exp(c)\n",
    "    chi = chi * (expr1 + expr2)\n",
    "    return chi"
   ]
  },
  {
   "cell_type": "code",
   "execution_count": 252,
   "id": "bc58fe23",
   "metadata": {},
   "outputs": [],
   "source": [
    "def Psi(a,b,c,d,k):\n",
    "    psi = np.sin(k * np.pi * (d - a) / (b - a)) - np.sin(k * np.pi * (c - a)/(b - a))\n",
    "    psi[1:] = psi[1:] * (b - a) / (k[1:] * np.pi)\n",
    "    psi[0] = d - c\n",
    "    return psi"
   ]
  },
  {
   "cell_type": "code",
   "execution_count": 308,
   "id": "68f8e304",
   "metadata": {},
   "outputs": [],
   "source": [
    "def pricing_using_COS(K, a, b, n = 12):\n",
    "    K = np.array(K).reshape([len(K), 1])\n",
    "    x = np.log(S_0/K)\n",
    "    N = 2**n\n",
    "    k = np.linspace(0,N-1,N).reshape([N,1])\n",
    "    u = math.pi*k/(b-a)\n",
    "    chi = Chi(a,b,0,b,k)\n",
    "    psi = Psi(a,b,0,b,k)\n",
    "    if a < b and b < 0.0:\n",
    "        factor = np.zeros([len(k),1])\n",
    "    else:\n",
    "        factor = (2/(b-a))*(chi-psi)\n",
    "    integrand = np.exp(1j * np.outer((x - a) , u))\n",
    "    temp = cf2(u) * factor \n",
    "    temp[0] = 0.5 * temp[0]\n",
    "    value = np.exp(-r * T) * K * np.real(integrand.dot(temp))\n",
    "    return value"
   ]
  },
  {
   "cell_type": "code",
   "execution_count": 309,
   "id": "c468c883",
   "metadata": {},
   "outputs": [
    {
     "name": "stdout",
     "output_type": "stream",
     "text": [
      "[[95.24669195]\n",
      " [64.83462022]\n",
      " [42.9471753 ]]\n",
      "[[95.24669243]\n",
      " [64.83462031]\n",
      " [42.94717532]]\n",
      "[[95.24669243]\n",
      " [64.83462031]\n",
      " [42.94717532]]\n",
      "[[95.24669253]\n",
      " [64.83462038]\n",
      " [42.9471754 ]]\n"
     ]
    }
   ],
   "source": [
    "ab = [[-1, 1], [-4, 4], [-8, 8], [-12, 12]]\n",
    "for ran in ab:\n",
    "    vals = pricing_using_COS(strike_range, ran[0],ran[1])\n",
    "    print(vals)"
   ]
  }
 ],
 "metadata": {
  "kernelspec": {
   "display_name": "Python 3 (ipykernel)",
   "language": "python",
   "name": "python3"
  },
  "language_info": {
   "codemirror_mode": {
    "name": "ipython",
    "version": 3
   },
   "file_extension": ".py",
   "mimetype": "text/x-python",
   "name": "python",
   "nbconvert_exporter": "python",
   "pygments_lexer": "ipython3",
   "version": "3.9.12"
  }
 },
 "nbformat": 4,
 "nbformat_minor": 5
}
